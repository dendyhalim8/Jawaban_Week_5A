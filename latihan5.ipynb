{
 "cells": [
  {
   "attachments": {},
   "cell_type": "markdown",
   "metadata": {},
   "source": [
    "**1. Menghitung pangkat:**\n",
    "Buatlah program untuk menghitung hasil pangkat dari sebuah bilangan x dengan pangkat y."
   ]
  },
  {
   "cell_type": "code",
   "execution_count": null,
   "metadata": {},
   "outputs": [],
   "source": [
    "x = int(input(\"Masukkan bilangan: \"))\n",
    "y = int(input(\"Masukkan pangkat: \"))\n",
    "hasil = 1\n",
    "\n",
    "for i in range(y):\n",
    "    hasil *= x\n",
    "\n",
    "print(\"Hasil dari\", x, \"^\", y, \"adalah\", hasil)"
   ]
  },
  {
   "attachments": {},
   "cell_type": "markdown",
   "metadata": {},
   "source": [
    "**2. buatlah program python dengan output**\n",
    "*\n",
    "**\n",
    "***\n",
    "****\n",
    "*****\n",
    "****\n",
    "***\n",
    "**\n",
    "*"
   ]
  },
  {
   "cell_type": "code",
   "execution_count": 2,
   "metadata": {},
   "outputs": [
    {
     "name": "stdout",
     "output_type": "stream",
     "text": [
      "*\n",
      "**\n",
      "***\n",
      "****\n",
      "*****\n",
      "****\n",
      "***\n",
      "**\n",
      "*\n"
     ]
    }
   ],
   "source": [
    "n = 5\n",
    "\n",
    "# membuat pola bintang segitiga\n",
    "for i in range(1, n+1):\n",
    "    for j in range(1, i+1):\n",
    "        print(\"*\", end=\"\")\n",
    "    print()\n",
    "\n",
    "# membuat pola bintang segitiga terbalik\n",
    "for i in range(n-1, 0, -1):\n",
    "    for j in range(1, i+1):\n",
    "        print(\"*\", end=\"\")\n",
    "    print()"
   ]
  },
  {
   "attachments": {},
   "cell_type": "markdown",
   "metadata": {},
   "source": [
    "**3. Loop menggunakan break:**\n",
    "Buatlah program untuk mengecek apakah suatu bilangan n \n",
    "merupakan bilangan prima, jika bilangan prima maka \n",
    "masukan bilangan tersebut ke dalam list"
   ]
  },
  {
   "cell_type": "code",
   "execution_count": 3,
   "metadata": {},
   "outputs": [
    {
     "name": "stdout",
     "output_type": "stream",
     "text": [
      "Bilangan prima dari 2 hingga 10 adalah [2, 3, 5, 7]\n"
     ]
    }
   ],
   "source": [
    "n = int(input(\"Masukkan angka: \"))\n",
    "bilangan_prima = []\n",
    "\n",
    "for i in range(2, n+1):\n",
    "    for j in range(2, i):\n",
    "        if i % j == 0:\n",
    "            break\n",
    "    else:\n",
    "        bilangan_prima.append(i)\n",
    "\n",
    "print(\"Bilangan prima dari 2 hingga\", n, \"adalah\", bilangan_prima)"
   ]
  },
  {
   "attachments": {},
   "cell_type": "markdown",
   "metadata": {},
   "source": [
    "**4. Diberikan list sebagai berikut:**"
   ]
  },
  {
   "cell_type": "code",
   "execution_count": 4,
   "metadata": {},
   "outputs": [],
   "source": [
    "data_mahasiswa = [\n",
    "    {\n",
    "        \"nama\": \"Achmad Sidiq Herman\",\n",
    "        \"nim\": \"I0322001\",\n",
    "        \"ipk\": 3.75,\n",
    "    },\n",
    "    {\n",
    "        \"nama\": \"Aditya Agung Nugroho\",\n",
    "        \"nim\": \"I0322002\",\n",
    "        \"ipk\": 3.65,\n",
    "    },\n",
    "    {\n",
    "        \"nama\": \"Adriani Hasna Khalisha\",\n",
    "        \"nim\": \"I0322004\",\n",
    "        \"ipk\": 3.85,\n",
    "    }\n",
    "]"
   ]
  },
  {
   "cell_type": "code",
   "execution_count": 5,
   "metadata": {},
   "outputs": [
    {
     "name": "stdout",
     "output_type": "stream",
     "text": [
      "Data Mahasiswa dengan IPK di atas rata-rata:\n",
      "Nama: Adriani Hasna Khalisha\n",
      "NIM: I0322004\n",
      "IPK: 3.85\n"
     ]
    }
   ],
   "source": [
    "total_ipk = 0\n",
    "for mahasiswa in data_mahasiswa:\n",
    "    total_ipk += mahasiswa[\"ipk\"]\n",
    "rata_ipk = total_ipk / len(data_mahasiswa)\n",
    "\n",
    "print(\"Data Mahasiswa dengan IPK di atas rata-rata:\")\n",
    "for mahasiswa in data_mahasiswa:\n",
    "    if mahasiswa[\"ipk\"] > rata_ipk:\n",
    "        print(\"Nama:\", mahasiswa[\"nama\"])\n",
    "        print(\"NIM:\", mahasiswa[\"nim\"])\n",
    "        print(\"IPK:\", mahasiswa[\"ipk\"])"
   ]
  }
 ],
 "metadata": {
  "kernelspec": {
   "display_name": "Python 3",
   "language": "python",
   "name": "python3"
  },
  "language_info": {
   "codemirror_mode": {
    "name": "ipython",
    "version": 3
   },
   "file_extension": ".py",
   "mimetype": "text/x-python",
   "name": "python",
   "nbconvert_exporter": "python",
   "pygments_lexer": "ipython3",
   "version": "3.10.7"
  },
  "orig_nbformat": 4
 },
 "nbformat": 4,
 "nbformat_minor": 2
}
